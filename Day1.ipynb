{
 "cells": [
  {
   "cell_type": "code",
   "execution_count": 3,
   "id": "753969ea",
   "metadata": {},
   "outputs": [],
   "source": [
    "import pandas as pd\n",
    "\n"
   ]
  },
  {
   "cell_type": "code",
   "execution_count": 4,
   "id": "6c014671",
   "metadata": {},
   "outputs": [],
   "source": [
    "df = pd.read_csv(\"Netflix_movies_and_tv_shows_clustering.csv\")"
   ]
  },
  {
   "cell_type": "code",
   "execution_count": 5,
   "id": "a13dbf09",
   "metadata": {},
   "outputs": [
    {
     "data": {
      "text/html": [
       "<div>\n",
       "<style scoped>\n",
       "    .dataframe tbody tr th:only-of-type {\n",
       "        vertical-align: middle;\n",
       "    }\n",
       "\n",
       "    .dataframe tbody tr th {\n",
       "        vertical-align: top;\n",
       "    }\n",
       "\n",
       "    .dataframe thead th {\n",
       "        text-align: right;\n",
       "    }\n",
       "</style>\n",
       "<table border=\"1\" class=\"dataframe\">\n",
       "  <thead>\n",
       "    <tr style=\"text-align: right;\">\n",
       "      <th></th>\n",
       "      <th>show_id</th>\n",
       "      <th>type</th>\n",
       "      <th>title</th>\n",
       "      <th>director</th>\n",
       "      <th>cast</th>\n",
       "      <th>country</th>\n",
       "      <th>date_added</th>\n",
       "      <th>release_year</th>\n",
       "      <th>rating</th>\n",
       "      <th>duration</th>\n",
       "      <th>listed_in</th>\n",
       "      <th>description</th>\n",
       "    </tr>\n",
       "  </thead>\n",
       "  <tbody>\n",
       "    <tr>\n",
       "      <th>0</th>\n",
       "      <td>s1</td>\n",
       "      <td>TV Show</td>\n",
       "      <td>3%</td>\n",
       "      <td>NaN</td>\n",
       "      <td>João Miguel, Bianca Comparato, Michel Gomes, R...</td>\n",
       "      <td>Brazil</td>\n",
       "      <td>August 14, 2020</td>\n",
       "      <td>2020</td>\n",
       "      <td>TV-MA</td>\n",
       "      <td>4 Seasons</td>\n",
       "      <td>International TV Shows, TV Dramas, TV Sci-Fi &amp;...</td>\n",
       "      <td>In a future where the elite inhabit an island ...</td>\n",
       "    </tr>\n",
       "    <tr>\n",
       "      <th>1</th>\n",
       "      <td>s2</td>\n",
       "      <td>Movie</td>\n",
       "      <td>7:19</td>\n",
       "      <td>Jorge Michel Grau</td>\n",
       "      <td>Demián Bichir, Héctor Bonilla, Oscar Serrano, ...</td>\n",
       "      <td>Mexico</td>\n",
       "      <td>December 23, 2016</td>\n",
       "      <td>2016</td>\n",
       "      <td>TV-MA</td>\n",
       "      <td>93 min</td>\n",
       "      <td>Dramas, International Movies</td>\n",
       "      <td>After a devastating earthquake hits Mexico Cit...</td>\n",
       "    </tr>\n",
       "    <tr>\n",
       "      <th>2</th>\n",
       "      <td>s3</td>\n",
       "      <td>Movie</td>\n",
       "      <td>23:59</td>\n",
       "      <td>Gilbert Chan</td>\n",
       "      <td>Tedd Chan, Stella Chung, Henley Hii, Lawrence ...</td>\n",
       "      <td>Singapore</td>\n",
       "      <td>December 20, 2018</td>\n",
       "      <td>2011</td>\n",
       "      <td>R</td>\n",
       "      <td>78 min</td>\n",
       "      <td>Horror Movies, International Movies</td>\n",
       "      <td>When an army recruit is found dead, his fellow...</td>\n",
       "    </tr>\n",
       "    <tr>\n",
       "      <th>3</th>\n",
       "      <td>s4</td>\n",
       "      <td>Movie</td>\n",
       "      <td>9</td>\n",
       "      <td>Shane Acker</td>\n",
       "      <td>Elijah Wood, John C. Reilly, Jennifer Connelly...</td>\n",
       "      <td>United States</td>\n",
       "      <td>November 16, 2017</td>\n",
       "      <td>2009</td>\n",
       "      <td>PG-13</td>\n",
       "      <td>80 min</td>\n",
       "      <td>Action &amp; Adventure, Independent Movies, Sci-Fi...</td>\n",
       "      <td>In a postapocalyptic world, rag-doll robots hi...</td>\n",
       "    </tr>\n",
       "    <tr>\n",
       "      <th>4</th>\n",
       "      <td>s5</td>\n",
       "      <td>Movie</td>\n",
       "      <td>21</td>\n",
       "      <td>Robert Luketic</td>\n",
       "      <td>Jim Sturgess, Kevin Spacey, Kate Bosworth, Aar...</td>\n",
       "      <td>United States</td>\n",
       "      <td>January 1, 2020</td>\n",
       "      <td>2008</td>\n",
       "      <td>PG-13</td>\n",
       "      <td>123 min</td>\n",
       "      <td>Dramas</td>\n",
       "      <td>A brilliant group of students become card-coun...</td>\n",
       "    </tr>\n",
       "  </tbody>\n",
       "</table>\n",
       "</div>"
      ],
      "text/plain": [
       "  show_id     type  title           director  \\\n",
       "0      s1  TV Show     3%                NaN   \n",
       "1      s2    Movie   7:19  Jorge Michel Grau   \n",
       "2      s3    Movie  23:59       Gilbert Chan   \n",
       "3      s4    Movie      9        Shane Acker   \n",
       "4      s5    Movie     21     Robert Luketic   \n",
       "\n",
       "                                                cast        country  \\\n",
       "0  João Miguel, Bianca Comparato, Michel Gomes, R...         Brazil   \n",
       "1  Demián Bichir, Héctor Bonilla, Oscar Serrano, ...         Mexico   \n",
       "2  Tedd Chan, Stella Chung, Henley Hii, Lawrence ...      Singapore   \n",
       "3  Elijah Wood, John C. Reilly, Jennifer Connelly...  United States   \n",
       "4  Jim Sturgess, Kevin Spacey, Kate Bosworth, Aar...  United States   \n",
       "\n",
       "          date_added  release_year rating   duration  \\\n",
       "0    August 14, 2020          2020  TV-MA  4 Seasons   \n",
       "1  December 23, 2016          2016  TV-MA     93 min   \n",
       "2  December 20, 2018          2011      R     78 min   \n",
       "3  November 16, 2017          2009  PG-13     80 min   \n",
       "4    January 1, 2020          2008  PG-13    123 min   \n",
       "\n",
       "                                           listed_in  \\\n",
       "0  International TV Shows, TV Dramas, TV Sci-Fi &...   \n",
       "1                       Dramas, International Movies   \n",
       "2                Horror Movies, International Movies   \n",
       "3  Action & Adventure, Independent Movies, Sci-Fi...   \n",
       "4                                             Dramas   \n",
       "\n",
       "                                         description  \n",
       "0  In a future where the elite inhabit an island ...  \n",
       "1  After a devastating earthquake hits Mexico Cit...  \n",
       "2  When an army recruit is found dead, his fellow...  \n",
       "3  In a postapocalyptic world, rag-doll robots hi...  \n",
       "4  A brilliant group of students become card-coun...  "
      ]
     },
     "execution_count": 5,
     "metadata": {},
     "output_type": "execute_result"
    }
   ],
   "source": [
    "df.head()\n"
   ]
  },
  {
   "cell_type": "code",
   "execution_count": 6,
   "id": "8ac64564",
   "metadata": {},
   "outputs": [
    {
     "data": {
      "text/plain": [
       "(7787, 12)"
      ]
     },
     "execution_count": 6,
     "metadata": {},
     "output_type": "execute_result"
    }
   ],
   "source": [
    "# dataframe shape\n",
    "df.shape\n"
   ]
  },
  {
   "cell_type": "code",
   "execution_count": 7,
   "id": "1289de1d",
   "metadata": {},
   "outputs": [
    {
     "data": {
      "text/plain": [
       "show_id         7787\n",
       "type               2\n",
       "title           7787\n",
       "director        4049\n",
       "cast            6831\n",
       "country          681\n",
       "date_added      1565\n",
       "release_year      73\n",
       "rating            14\n",
       "duration         216\n",
       "listed_in        492\n",
       "description     7769\n",
       "dtype: int64"
      ]
     },
     "execution_count": 7,
     "metadata": {},
     "output_type": "execute_result"
    }
   ],
   "source": [
    "# unique values in each column\n",
    "df.nunique()"
   ]
  },
  {
   "cell_type": "code",
   "execution_count": 8,
   "id": "6c8645b9",
   "metadata": {},
   "outputs": [
    {
     "data": {
      "text/plain": [
       "False    7787\n",
       "Name: count, dtype: int64"
      ]
     },
     "execution_count": 8,
     "metadata": {},
     "output_type": "execute_result"
    }
   ],
   "source": [
    "# Checking for duplicate records\n",
    "df.duplicated().value_counts()"
   ]
  },
  {
   "cell_type": "code",
   "execution_count": 9,
   "id": "2640fee3",
   "metadata": {},
   "outputs": [],
   "source": [
    "import matplotlib as plt"
   ]
  },
  {
   "cell_type": "code",
   "execution_count": 10,
   "id": "f49efeda",
   "metadata": {},
   "outputs": [
    {
     "data": {
      "text/plain": [
       "show_id            0\n",
       "type               0\n",
       "title              0\n",
       "director        2389\n",
       "cast             718\n",
       "country          507\n",
       "date_added        10\n",
       "release_year       0\n",
       "rating             7\n",
       "duration           0\n",
       "listed_in          0\n",
       "description        0\n",
       "dtype: int64"
      ]
     },
     "execution_count": 10,
     "metadata": {},
     "output_type": "execute_result"
    }
   ],
   "source": [
    "df.isna().sum()"
   ]
  },
  {
   "cell_type": "code",
   "execution_count": 11,
   "id": "d44aea0e",
   "metadata": {},
   "outputs": [
    {
     "data": {
      "text/plain": [
       "show_id         7787\n",
       "type               2\n",
       "title           7787\n",
       "director        4049\n",
       "cast            6831\n",
       "country          681\n",
       "date_added      1565\n",
       "release_year      73\n",
       "rating            14\n",
       "duration         216\n",
       "listed_in        492\n",
       "description     7769\n",
       "dtype: int64"
      ]
     },
     "execution_count": 11,
     "metadata": {},
     "output_type": "execute_result"
    }
   ],
   "source": [
    "df.nunique()"
   ]
  },
  {
   "cell_type": "code",
   "execution_count": 12,
   "id": "a409751f",
   "metadata": {},
   "outputs": [],
   "source": [
    "df[['director','cast','country']] = df[['director','cast','country']].fillna('Unknown')\n",
    "df['rating'] = df['rating'].fillna(df['rating'].mode()[0])\n",
    "df.dropna(axis=0, inplace = True)"
   ]
  },
  {
   "cell_type": "code",
   "execution_count": 13,
   "id": "32b71679",
   "metadata": {},
   "outputs": [
    {
     "data": {
      "text/plain": [
       "(7777, 12)"
      ]
     },
     "execution_count": 13,
     "metadata": {},
     "output_type": "execute_result"
    }
   ],
   "source": [
    "df.shape"
   ]
  },
  {
   "cell_type": "code",
   "execution_count": 14,
   "id": "236c017c",
   "metadata": {},
   "outputs": [
    {
     "data": {
      "text/plain": [
       "country\n",
       "United States                                     2549\n",
       "India                                              923\n",
       "Unknown                                            506\n",
       "United Kingdom                                     396\n",
       "Japan                                              225\n",
       "                                                  ... \n",
       "Peru, United States, United Kingdom                  1\n",
       "Saudi Arabia, United Arab Emirates                   1\n",
       "United Kingdom, France, United States, Belgium       1\n",
       "France, Norway, Lebanon, Belgium                     1\n",
       "Austria, Iraq, United States                         1\n",
       "Name: count, Length: 682, dtype: int64"
      ]
     },
     "execution_count": 14,
     "metadata": {},
     "output_type": "execute_result"
    }
   ],
   "source": [
    "df.country.value_counts()"
   ]
  },
  {
   "cell_type": "code",
   "execution_count": 15,
   "id": "80379c56",
   "metadata": {},
   "outputs": [
    {
     "data": {
      "text/plain": [
       "listed_in\n",
       "Documentaries                                                334\n",
       "Stand-Up Comedy                                              321\n",
       "Dramas, International Movies                                 320\n",
       "Comedies, Dramas, International Movies                       243\n",
       "Dramas, Independent Movies, International Movies             215\n",
       "                                                            ... \n",
       "Sports Movies                                                  1\n",
       "Crime TV Shows, TV Horror, TV Mysteries                        1\n",
       "Children & Family Movies, Classic Movies, Dramas               1\n",
       "Romantic TV Shows, Spanish-Language TV Shows, TV Comedies      1\n",
       "Dramas, Faith & Spirituality, Sports Movies                    1\n",
       "Name: count, Length: 491, dtype: int64"
      ]
     },
     "execution_count": 15,
     "metadata": {},
     "output_type": "execute_result"
    }
   ],
   "source": [
    "df.listed_in.value_counts()"
   ]
  },
  {
   "cell_type": "code",
   "execution_count": 16,
   "id": "59edbc56",
   "metadata": {},
   "outputs": [],
   "source": [
    "df['country'] = df['country'].apply(lambda x: x.split(',')[0])\n",
    "df['listed_in'] = df['listed_in'].apply(lambda x: x.split(',')[0])"
   ]
  },
  {
   "cell_type": "code",
   "execution_count": 17,
   "id": "5df8e3ba",
   "metadata": {},
   "outputs": [
    {
     "data": {
      "text/plain": [
       "country\n",
       "United States     2877\n",
       "India              956\n",
       "United Kingdom     576\n",
       "Unknown            506\n",
       "Canada             259\n",
       "                  ... \n",
       "Jamaica              1\n",
       "Cyprus               1\n",
       "Greece               1\n",
       "Paraguay             1\n",
       "Somalia              1\n",
       "Name: count, Length: 82, dtype: int64"
      ]
     },
     "execution_count": 17,
     "metadata": {},
     "output_type": "execute_result"
    }
   ],
   "source": [
    "df.country.value_counts()"
   ]
  },
  {
   "cell_type": "code",
   "execution_count": 18,
   "id": "a58322a0",
   "metadata": {},
   "outputs": [
    {
     "data": {
      "text/plain": [
       "listed_in\n",
       "Dramas                          1384\n",
       "Comedies                        1074\n",
       "Documentaries                    751\n",
       "Action & Adventure               721\n",
       "International TV Shows           689\n",
       "Children & Family Movies         502\n",
       "Crime TV Shows                   369\n",
       "Kids' TV                         357\n",
       "Stand-Up Comedy                  321\n",
       "Horror Movies                    244\n",
       "British TV Shows                 231\n",
       "Docuseries                       193\n",
       "Anime Series                     147\n",
       "International Movies             114\n",
       "TV Comedies                      109\n",
       "Reality TV                       102\n",
       "Classic Movies                    77\n",
       "TV Dramas                         62\n",
       "Movies                            56\n",
       "Thrillers                         49\n",
       "TV Action & Adventure             36\n",
       "Stand-Up Comedy & Talk Shows      33\n",
       "Romantic TV Shows                 28\n",
       "Independent Movies                20\n",
       "Classic & Cult TV                 19\n",
       "Anime Features                    19\n",
       "Music & Musicals                  17\n",
       "TV Shows                          12\n",
       "Cult Movies                       12\n",
       "Sci-Fi & Fantasy                  11\n",
       "TV Horror                         10\n",
       "Romantic Movies                    3\n",
       "Spanish-Language TV Shows          2\n",
       "Sports Movies                      1\n",
       "TV Sci-Fi & Fantasy                1\n",
       "LGBTQ Movies                       1\n",
       "Name: count, dtype: int64"
      ]
     },
     "execution_count": 18,
     "metadata": {},
     "output_type": "execute_result"
    }
   ],
   "source": [
    "df.listed_in.value_counts()"
   ]
  },
  {
   "cell_type": "code",
   "execution_count": 19,
   "id": "4ad34efa",
   "metadata": {},
   "outputs": [],
   "source": [
    "df['duration'] = df['duration'].apply(lambda x: int(x.split()[0]))"
   ]
  },
  {
   "cell_type": "code",
   "execution_count": 20,
   "id": "5395cba5",
   "metadata": {},
   "outputs": [
    {
     "data": {
      "text/plain": [
       "duration\n",
       "1     1608\n",
       "2      378\n",
       "3      183\n",
       "4       86\n",
       "5       57\n",
       "6       30\n",
       "7       19\n",
       "8       18\n",
       "9        8\n",
       "10       5\n",
       "11       2\n",
       "15       2\n",
       "12       2\n",
       "13       1\n",
       "16       1\n",
       "Name: count, dtype: int64"
      ]
     },
     "execution_count": 20,
     "metadata": {},
     "output_type": "execute_result"
    }
   ],
   "source": [
    "df[df['type']=='TV Show'].duration.value_counts()"
   ]
  },
  {
   "cell_type": "code",
   "execution_count": 21,
   "id": "05115a7d",
   "metadata": {},
   "outputs": [
    {
     "data": {
      "text/plain": [
       "array([ 93,  78,  80, 123,  95, 119, 118, 143, 103,  89,  91, 149, 144,\n",
       "       124,  87, 110, 128, 117, 100,  84,  99,  90, 102, 104, 105,  56,\n",
       "       125,  81,  97, 106, 107, 109,  44,  75, 101,  37, 113, 114, 130,\n",
       "        94, 140, 135,  82,  70, 121,  92, 164,  53,  83, 116,  86, 120,\n",
       "        96, 126, 129,  77, 137, 148,  28, 122, 176,  85,  22,  68, 111,\n",
       "        29, 142, 168,  21,  59,  20,  98, 108,  76,  26, 156,  30,  57,\n",
       "       150, 133, 115, 154, 127, 146, 136,  88, 131,  24, 112,  74,  63,\n",
       "        38,  25, 174,  60, 153, 158, 151, 162,  54,  51,  69,  64, 147,\n",
       "        42,  79,  40,  45, 172,  10, 163,  55,  72,  61,  71, 160, 171,\n",
       "        48, 139, 157,  15,  65, 134, 161,  62, 186,  49,  73,  58, 165,\n",
       "       166, 138, 159, 141, 132,  52,  67,  34,  66, 312, 180,  47, 155,\n",
       "        14, 177,  11,   9,  46, 145,   8,  12,  43,  50,  23, 185, 200,\n",
       "       169,  27, 170, 196,  33, 181, 204,  32,  35, 167, 179, 193,  13,\n",
       "       214,  17, 173, 192, 209, 187,  41, 182, 224, 233, 189, 152,  19,\n",
       "       208, 237,  31, 178, 230, 194, 228, 195,   3,  16,   5,  18, 205,\n",
       "       190,  36, 201, 253, 203, 191])"
      ]
     },
     "execution_count": 21,
     "metadata": {},
     "output_type": "execute_result"
    }
   ],
   "source": [
    "df[df['type']=='Movie'].duration.unique()"
   ]
  },
  {
   "cell_type": "code",
   "execution_count": 22,
   "id": "450a26b2",
   "metadata": {},
   "outputs": [
    {
     "data": {
      "text/plain": [
       "dtype('int64')"
      ]
     },
     "execution_count": 22,
     "metadata": {},
     "output_type": "execute_result"
    }
   ],
   "source": [
    "df.duration.dtype"
   ]
  },
  {
   "cell_type": "code",
   "execution_count": 23,
   "id": "2e575d2d",
   "metadata": {},
   "outputs": [
    {
     "data": {
      "text/plain": [
       "show_id         0\n",
       "type            0\n",
       "title           0\n",
       "director        0\n",
       "cast            0\n",
       "country         0\n",
       "date_added      0\n",
       "release_year    0\n",
       "rating          0\n",
       "duration        0\n",
       "listed_in       0\n",
       "description     0\n",
       "dtype: int64"
      ]
     },
     "execution_count": 23,
     "metadata": {},
     "output_type": "execute_result"
    }
   ],
   "source": [
    "df.isna().sum()"
   ]
  },
  {
   "cell_type": "code",
   "execution_count": null,
   "id": "61c8b687",
   "metadata": {},
   "outputs": [],
   "source": []
  }
 ],
 "metadata": {
  "kernelspec": {
   "display_name": "Python 3",
   "language": "python",
   "name": "python3"
  },
  "language_info": {
   "codemirror_mode": {
    "name": "ipython",
    "version": 3
   },
   "file_extension": ".py",
   "mimetype": "text/x-python",
   "name": "python",
   "nbconvert_exporter": "python",
   "pygments_lexer": "ipython3",
   "version": "3.11.4"
  }
 },
 "nbformat": 4,
 "nbformat_minor": 5
}
